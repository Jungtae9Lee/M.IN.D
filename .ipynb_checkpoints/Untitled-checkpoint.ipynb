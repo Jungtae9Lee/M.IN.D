{
 "cells": [
  {
   "cell_type": "code",
   "execution_count": 1,
   "metadata": {},
   "outputs": [
    {
     "name": "stderr",
     "output_type": "stream",
     "text": [
      "C:\\Users\\bueno\\Anaconda3\\lib\\site-packages\\h5py\\__init__.py:36: FutureWarning: Conversion of the second argument of issubdtype from `float` to `np.floating` is deprecated. In future, it will be treated as `np.float64 == np.dtype(float).type`.\n",
      "  from ._conv import register_converters as _register_converters\n"
     ]
    },
    {
     "data": {
      "text/plain": [
       "<matplotlib.figure.Figure at 0x21583a52a20>"
      ]
     },
     "metadata": {},
     "output_type": "display_data"
    }
   ],
   "source": [
    "#%%\n",
    "\n",
    "import numpy as np\n",
    "num_points = 2000\n",
    "verctors_set = []\n",
    "\n",
    "for i in range(num_points):\n",
    "    if np.random.random() > 0.5:\n",
    "        verctors_set.append([np.random.normal(0.0, 0.9),\n",
    "                             np.random.normal(0.0, 0.9)])\n",
    "    else:\n",
    "        verctors_set.append([np.random.normal(3.0, 0.5),\n",
    "                             np.random.normal(1.0, 0.5)])\n",
    "\n",
    "import tensorflow as tf\n",
    "import seaborn as sns\n",
    "import pandas as pd\n",
    "import matplotlib.pyplot as plt\n",
    "%matplotlib inline\n",
    "\n",
    "df = pd.DataFrame({\"x\": [v[0] for v in verctors_set], \n",
    "                   \"y\": [v[1] for v in verctors_set]})\n",
    "sns.lmplot(\"x\", \"y\", data=df, fit_reg=False, size=7)\n",
    "plt.show()"
   ]
  }
 ],
 "metadata": {
  "kernelspec": {
   "display_name": "Python 3",
   "language": "python",
   "name": "python3"
  },
  "language_info": {
   "codemirror_mode": {
    "name": "ipython",
    "version": 3
   },
   "file_extension": ".py",
   "mimetype": "text/x-python",
   "name": "python",
   "nbconvert_exporter": "python",
   "pygments_lexer": "ipython3",
   "version": "3.6.4"
  }
 },
 "nbformat": 4,
 "nbformat_minor": 2
}
